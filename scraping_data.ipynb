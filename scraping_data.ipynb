{
 "cells": [
  {
   "cell_type": "markdown",
   "metadata": {},
   "source": [
    "# A First Scraping Foray for Wikipedia’s table of Nobel Prize winners"
   ]
  },
  {
   "cell_type": "markdown",
   "metadata": {},
   "source": [
    "We’ll start at the [main Wikipedia Nobel Prize page](https://en.wikipedia.org/wiki/List_of_Nobel_laureates). Scrolling down shows a table with all the laureates by year and\n",
    "category, which is a good start to our minimal data requirements."
   ]
  },
  {
   "cell_type": "code",
   "execution_count": 1,
   "metadata": {},
   "outputs": [],
   "source": [
    "from bs4 import BeautifulSoup\n",
    "import requests"
   ]
  },
  {
   "cell_type": "code",
   "execution_count": null,
   "metadata": {},
   "outputs": [],
   "source": [
    "\"\"\"\n",
    "The install_cache method has a number of useful options, including\n",
    "allowing you to specify the cache backend (sqlite, memory,mongdb,\n",
    "or redis) or set an expiry time (expiry_after) in seconds on the\n",
    "caching. So the following creates a cache named nobel_pages with an \n",
    "sqlite backend and pages that expire in two hours (7,200s).\n",
    "\"\"\"\n",
    "import requests_cache\n",
    "requests_cache.install_cache()\n",
    "# requests_cache.install_cache('nobel_pages', backend='sqlite', expire_after=7200)"
   ]
  },
  {
   "cell_type": "code",
   "execution_count": 3,
   "metadata": {},
   "outputs": [],
   "source": [
    "BASE_URL = 'https://en.wikipedia.org'\n",
    "# Wikipedia will reject our request unless we add\n",
    "# a 'User-Agent' attribute to our http header.\n",
    "HEADERS = {'User-Agent': 'Mozilla/5.0'}"
   ]
  },
  {
   "cell_type": "code",
   "execution_count": 4,
   "metadata": {},
   "outputs": [],
   "source": [
    "def get_Nobel_soup():\n",
    "    \"\"\" Return a parsed tag tree of our Nobel prize page \"\"\"\n",
    "    # Make a request to the Nobel page, setting valid headers\n",
    "    response = requests.get(\n",
    "        BASE_URL + '/wiki/List_of_Nobel_laureates',\n",
    "        headers=HEADERS)\n",
    "    # Return the content of the response parsed by BeautifulSoup\n",
    "    # The second argument specifies the parser we want to use, namely lxml’s\n",
    "    return BeautifulSoup(response.content, \"lxml\")  "
   ]
  },
  {
   "cell_type": "markdown",
   "metadata": {},
   "source": [
    "# Selecting Tags"
   ]
  },
  {
   "cell_type": "code",
   "execution_count": 5,
   "metadata": {},
   "outputs": [],
   "source": [
    "soup = get_Nobel_soup()"
   ]
  },
  {
   "cell_type": "code",
   "execution_count": 6,
   "metadata": {},
   "outputs": [
    {
     "data": {
      "text/plain": [
       "'\\nBeautifulSoup’s find method to find the first table tag with\\nthose classes. find takes a tag name as its first argument and\\na dictionary with class, id, and other identifiers as its second\\n'"
      ]
     },
     "execution_count": 6,
     "metadata": {},
     "output_type": "execute_result"
    }
   ],
   "source": [
    "\"\"\"\n",
    "BeautifulSoup’s find method to find the first table tag with\n",
    "those classes. find takes a tag name as its first argument and\n",
    "a dictionary with class, id, and other identifiers as its second\n",
    "\"\"\""
   ]
  },
  {
   "cell_type": "markdown",
   "metadata": {},
   "source": [
    "## use find()"
   ]
  },
  {
   "cell_type": "code",
   "execution_count": 7,
   "metadata": {},
   "outputs": [
    {
     "data": {
      "text/plain": [
       "'<table class=\"wikitable sortable\">\\n<tbody><tr>\\n<th>Year\\n</th>\\n<th width=\"18%\"><a href=\"/wiki/List_of'"
      ]
     },
     "execution_count": 7,
     "metadata": {},
     "output_type": "execute_result"
    }
   ],
   "source": [
    "\"\"\"\n",
    "because the vscode has output character limit. So change \n",
    "result to string, and check head of string\n",
    "\"\"\"\n",
    "str( soup.find('table', {'class':'wikitable sortable'}) )[0:100]"
   ]
  },
  {
   "cell_type": "code",
   "execution_count": 8,
   "metadata": {},
   "outputs": [
    {
     "data": {
      "text/plain": [
       "'\\nSo find cares about the order of the classes, using the class string to\\nfind the tag. If the classes were specified in a different order—something\\nthat might well happen during an HTML edit, then the find\\nfails.\\n'"
      ]
     },
     "execution_count": 8,
     "metadata": {},
     "output_type": "execute_result"
    }
   ],
   "source": [
    "\"\"\"\n",
    "Although we have successfully found our table by its classes, this\n",
    "method is not very robust. Let’s see what happens when we change\n",
    "the order of our CSS classes\n",
    "\"\"\"\n",
    "soup.find('table', {'class':'sortable wikitable'})\n",
    "# nothing returned\n",
    "\n",
    "\"\"\"\n",
    "So find cares about the order of the classes, using the class string to\n",
    "find the tag. If the classes were specified in a different order—something\n",
    "that might well happen during an HTML edit, then the find\n",
    "fails.\n",
    "\"\"\""
   ]
  },
  {
   "cell_type": "markdown",
   "metadata": {},
   "source": [
    "## use lxml’s CSS selectors"
   ]
  },
  {
   "cell_type": "code",
   "execution_count": 9,
   "metadata": {},
   "outputs": [],
   "source": [
    "\"\"\"\n",
    "Using the soup’s select method (available if you specified the lxml\n",
    "parser when creating it), you can specify an HTML element using its\n",
    "CSS class, id, and so on. \n",
    "\n",
    "selection syntax should be familiar to anyone who’s used \n",
    "JavaScript’s jQuery library and is also similar to that used by D3.\n",
    "CSS class, id, and so on. This CSS selector is converted into the\n",
    "xpath syntax lxml uses internally.\n",
    "\"\"\"\n",
    "table = soup.select('table.sortable.wikitable')"
   ]
  },
  {
   "cell_type": "code",
   "execution_count": 10,
   "metadata": {
    "tags": []
   },
   "outputs": [
    {
     "data": {
      "text/plain": [
       "'[<table class=\"wikitable sortable\">\\n<tbody><tr>\\n<th>Year\\n</th>\\n<th width=\"18%\"><a href=\"/wiki/List_of_Nobel_laureates_in_Physics\" title=\"List of Nobel laureates in Physics\">Physics</a>\\n</th>\\n<th width=\"16%\"><a href=\"/wiki/List_of_Nobel_laureates_in_Chemistry\" title=\"List of Nobel laureates in Chemistry\">Chemistry</a>\\n</th>\\n<th width=\"18%\"><a href=\"/wiki/List_of_Nobel_laureates_in_Physiology_or_Medicine\" title=\"List of Nobel laureates in Physiology or Medicine\">Physiology<br/>or Medicine</a>\\n</th>\\n<th width=\"16%\"><a href=\"/wiki/List_of_Nobel_laureates_in_Literature\" title=\"List of Nobel laureates in Literature\">Literature</a>\\n</th>\\n<th width=\"16%\"><a href=\"/wiki/List_of_Nobel_Peace_Prize_laureates\" title=\"List of Nobel Peace Prize laureates\">Peace</a>\\n</th>\\n<th width=\"15%\"><a class=\"mw-redirect\" href=\"/wiki/List_of_Nobel_laureates_in_Economics\" title=\"List of Nobel laureates in Economics\">Economics</a><br/>(The Sveriges Riksbank Prize)<sup class=\"reference\" id=\"cite_ref-13\"><a href=\"#ci'"
      ]
     },
     "execution_count": 10,
     "metadata": {},
     "output_type": "execute_result"
    }
   ],
   "source": [
    "str(table)[0:1000]"
   ]
  },
  {
   "cell_type": "code",
   "execution_count": 11,
   "metadata": {},
   "outputs": [],
   "source": [
    "\"\"\"\n",
    "lxml provides the select_one convenience method\n",
    "if you are selecting just one HTML element.\n",
    "\"\"\"\n",
    "table = soup.select_one('table.sortable.wikitable')"
   ]
  },
  {
   "cell_type": "code",
   "execution_count": 12,
   "metadata": {},
   "outputs": [
    {
     "data": {
      "text/plain": [
       "'<table class=\"wikitable sortable\">\\n<tbody><tr>\\n<th>Year\\n</th>\\n<th width=\"18%\"><a href=\"/wiki/List_of_Nobel_laureates_in_Physics\" title=\"List of Nobel laureates in Physics\">Physics</a>\\n</th>\\n<th width=\"16%\"><a href=\"/wiki/List_of_Nobel_laureates_in_Chemistry\" title=\"List of Nobel laureates in Chemistry\">Chemistry</a>\\n</th>\\n<th width=\"18%\"><a href=\"/wiki/List_of_Nobel_laureates_in_Physiology_or_Medicine\" title=\"List of Nobel laureates in Physiology or Medicine\">Physiology<br/>or Medicine</a>\\n</th>\\n<th width=\"16%\"><a href=\"/wiki/List_of_Nobel_laureates_in_Literature\" title=\"List of Nobel laureates in Literature\">Literature</a>\\n</th>\\n<th width=\"16%\"><a href=\"/wiki/List_of_Nobel_Peace_Prize_laureates\" title=\"List of Nobel Peace Prize laureates\">Peace</a>\\n</th>\\n<th width=\"15%\"><a class=\"mw-redirect\" href=\"/wiki/List_of_Nobel_laureates_in_Economics\" title=\"List of Nobel laureates in Economics\">Economics</a><br/>(The Sveriges Riksbank Prize)<sup class=\"reference\" id=\"cite_ref-13\"><a href=\"#cit'"
      ]
     },
     "execution_count": 12,
     "metadata": {},
     "output_type": "execute_result"
    }
   ],
   "source": [
    "str(table)[0:1000]"
   ]
  },
  {
   "cell_type": "code",
   "execution_count": 13,
   "metadata": {},
   "outputs": [
    {
     "data": {
      "text/plain": [
       "[<th>Year\n",
       " </th>,\n",
       " <th width=\"18%\"><a href=\"/wiki/List_of_Nobel_laureates_in_Physics\" title=\"List of Nobel laureates in Physics\">Physics</a>\n",
       " </th>,\n",
       " <th width=\"16%\"><a href=\"/wiki/List_of_Nobel_laureates_in_Chemistry\" title=\"List of Nobel laureates in Chemistry\">Chemistry</a>\n",
       " </th>,\n",
       " <th width=\"18%\"><a href=\"/wiki/List_of_Nobel_laureates_in_Physiology_or_Medicine\" title=\"List of Nobel laureates in Physiology or Medicine\">Physiology<br/>or Medicine</a>\n",
       " </th>,\n",
       " <th width=\"16%\"><a href=\"/wiki/List_of_Nobel_laureates_in_Literature\" title=\"List of Nobel laureates in Literature\">Literature</a>\n",
       " </th>,\n",
       " <th width=\"16%\"><a href=\"/wiki/List_of_Nobel_Peace_Prize_laureates\" title=\"List of Nobel Peace Prize laureates\">Peace</a>\n",
       " </th>,\n",
       " <th width=\"15%\"><a class=\"mw-redirect\" href=\"/wiki/List_of_Nobel_laureates_in_Economics\" title=\"List of Nobel laureates in Economics\">Economics</a><br/>(The Sveriges Riksbank Prize)<sup class=\"reference\" id=\"cite_ref-13\"><a href=\"#cite_note-13\">[13]</a></sup>\n",
       " </th>,\n",
       " <th>Year\n",
       " </th>,\n",
       " <th width=\"16%\"><a href=\"/wiki/List_of_Nobel_laureates_in_Physics\" title=\"List of Nobel laureates in Physics\">Physics</a>\n",
       " </th>,\n",
       " <th width=\"16%\"><a href=\"/wiki/List_of_Nobel_laureates_in_Chemistry\" title=\"List of Nobel laureates in Chemistry\">Chemistry</a>\n",
       " </th>,\n",
       " <th width=\"16%\"><a href=\"/wiki/List_of_Nobel_laureates_in_Physiology_or_Medicine\" title=\"List of Nobel laureates in Physiology or Medicine\">Physiology<br/>or Medicine</a>\n",
       " </th>,\n",
       " <th width=\"16%\"><a href=\"/wiki/List_of_Nobel_laureates_in_Literature\" title=\"List of Nobel laureates in Literature\">Literature</a>\n",
       " </th>,\n",
       " <th width=\"16%\"><a href=\"/wiki/List_of_Nobel_Peace_Prize_laureates\" title=\"List of Nobel Peace Prize laureates\">Peace</a>\n",
       " </th>,\n",
       " <th width=\"15%\"><a class=\"mw-redirect\" href=\"/wiki/List_of_Nobel_laureates_in_Economics\" title=\"List of Nobel laureates in Economics\">Economics</a>\n",
       " </th>]"
      ]
     },
     "execution_count": 13,
     "metadata": {},
     "output_type": "execute_result"
    }
   ],
   "source": [
    "\"\"\"\n",
    "As a shorthand for select, you can call the tag directly on the soup;\n",
    "so these two are equivalent\n",
    "\"\"\"\n",
    "table.select('th')\n",
    "table('th')"
   ]
  },
  {
   "cell_type": "markdown",
   "metadata": {},
   "source": [
    "## Crafting Selection Patterns"
   ]
  },
  {
   "cell_type": "code",
   "execution_count": 14,
   "metadata": {},
   "outputs": [],
   "source": [
    "def get_column_titles(table):\n",
    "    \"\"\" Get the Nobel categories from the table header \"\"\"\n",
    "    cols = []\n",
    "    for th in table.select_one('tr').select('th')[1:]:\n",
    "        link = th.select_one('a')\n",
    "        # Store the category name and any Wikipedia link it has\n",
    "        if link:\n",
    "            cols.append({'name':link.text, 'href':link.attrs['href']})\n",
    "        else:\n",
    "            cols.append({'name':th.text, 'href':None})\n",
    "    return cols"
   ]
  },
  {
   "cell_type": "code",
   "execution_count": 15,
   "metadata": {},
   "outputs": [
    {
     "data": {
      "text/plain": [
       "[{'name': 'Physics', 'href': '/wiki/List_of_Nobel_laureates_in_Physics'},\n",
       " {'name': 'Chemistry', 'href': '/wiki/List_of_Nobel_laureates_in_Chemistry'},\n",
       " {'name': 'Physiologyor Medicine',\n",
       "  'href': '/wiki/List_of_Nobel_laureates_in_Physiology_or_Medicine'},\n",
       " {'name': 'Literature', 'href': '/wiki/List_of_Nobel_laureates_in_Literature'},\n",
       " {'name': 'Peace', 'href': '/wiki/List_of_Nobel_Peace_Prize_laureates'},\n",
       " {'name': 'Economics', 'href': '/wiki/List_of_Nobel_laureates_in_Economics'}]"
      ]
     },
     "execution_count": 15,
     "metadata": {},
     "output_type": "execute_result"
    }
   ],
   "source": [
    "get_column_titles(table)"
   ]
  },
  {
   "cell_type": "code",
   "execution_count": 16,
   "metadata": {},
   "outputs": [],
   "source": [
    "def get_Nobel_winners(table):\n",
    "    cols = get_column_titles(table)\n",
    "    winners = []\n",
    "    for row in table.select('tr')[1:-1]:  # Gets all the Year rows, starting from the second, corresponding to the rows\n",
    "        year = int(row.select_one('td').text) # Gets 1st <td>\n",
    "        for i, td in enumerate(row.select('td')[1:]):  # Finds the <td> data cells\n",
    "            for winner in td.select('a'):\n",
    "                href = winner.attrs['href']\n",
    "                if not href.startswith('#endnote'):\n",
    "                    winners.append({\n",
    "                        'year':year,\n",
    "                        'category':cols[i]['name'],\n",
    "                        'name':winner.text,\n",
    "                        'link':winner.attrs['href']\n",
    "                    })\n",
    "    return winners"
   ]
  },
  {
   "cell_type": "code",
   "execution_count": 35,
   "metadata": {},
   "outputs": [],
   "source": [
    "winners = get_Nobel_winners(table)[0:50]"
   ]
  },
  {
   "cell_type": "markdown",
   "metadata": {},
   "source": [
    "## Example 5-3. Scraping the winner’s country from their biography page"
   ]
  },
  {
   "cell_type": "code",
   "execution_count": 37,
   "metadata": {},
   "outputs": [],
   "source": [
    "def get_winner_nationality(w):\n",
    "    \"\"\" scrape biographic data from the winner's wikipedia page \"\"\"\n",
    "    soup = get_url('http://en.wikipedia.org' + w['link'])\n",
    "    person_data = {'name': w['name']}\n",
    "    attr_rows = soup.select('table.infobox tr')\n",
    "    for tr in attr_rows:\n",
    "        try:\n",
    "            attribute = tr.select_one('th').text\n",
    "            if attribute == 'Nationality':\n",
    "                person_data[attribute] = tr.select_one('td').text\n",
    "        except AttributeError:\n",
    "            pass\n",
    "\n",
    "    return person_data"
   ]
  },
  {
   "cell_type": "code",
   "execution_count": 38,
   "metadata": {},
   "outputs": [],
   "source": [
    "def get_url(url):\n",
    "    HEADERS = {'User-Agent': 'Mozilla/5.0'}\n",
    "    response = requests.get(url, headers=HEADERS)\n",
    "    return BeautifulSoup(response.content, \"lxml\")"
   ]
  },
  {
   "cell_type": "markdown",
   "metadata": {},
   "source": [
    "## Example 5-4. Testing for scraped nationalities"
   ]
  },
  {
   "cell_type": "code",
   "execution_count": null,
   "metadata": {},
   "outputs": [],
   "source": [
    "\"\"\"\n",
    "write a process to check missing data\n",
    "\"\"\""
   ]
  },
  {
   "cell_type": "code",
   "execution_count": 39,
   "metadata": {},
   "outputs": [
    {
     "data": {
      "text/plain": [
       "[{'name': 'Élie Ducommun'},\n",
       " {'name': 'Charles Albert Gobat'},\n",
       " {'name': 'Pierre Curie'},\n",
       " {'name': 'Marie Curie'},\n",
       " {'name': 'Niels Ryberg Finsen'},\n",
       " {'name': 'Ivan Pavlov'},\n",
       " {'name': 'Institut de Droit International'},\n",
       " {'name': 'Philipp Lenard'},\n",
       " {'name': 'Bertha von Suttner'},\n",
       " {'name': 'Santiago Ramón y Cajal'},\n",
       " {'name': 'Theodore Roosevelt'},\n",
       " {'name': 'Ernesto Teodoro Moneta'},\n",
       " {'name': 'Louis Renault'},\n",
       " {'name': 'Ernest Rutherford'},\n",
       " {'name': 'Paul Ehrlich'},\n",
       " {'name': 'Rudolf Christoph Eucken'},\n",
       " {'name': 'Klas Pontus Arnoldson'}]"
      ]
     },
     "execution_count": 39,
     "metadata": {},
     "output_type": "execute_result"
    }
   ],
   "source": [
    "wdata = []\n",
    "# test first 50 winners\n",
    "for w in winners[:50]:\n",
    "    wdata.append(get_winner_nationality(w))\n",
    "missing_nationality = []\n",
    "for w in wdata:\n",
    "    # if missing 'Nationality' add to list\n",
    "    if not w.get('Nationality'):\n",
    "        missing_nationality.append(w)\n",
    "# output list\n",
    "missing_nationality"
   ]
  },
  {
   "cell_type": "code",
   "execution_count": null,
   "metadata": {},
   "outputs": [],
   "source": []
  }
 ],
 "metadata": {
  "kernelspec": {
   "display_name": "Python 3",
   "language": "python",
   "name": "python3"
  },
  "language_info": {
   "codemirror_mode": {
    "name": "ipython",
    "version": 3
   },
   "file_extension": ".py",
   "mimetype": "text/x-python",
   "name": "python",
   "nbconvert_exporter": "python",
   "pygments_lexer": "ipython3",
   "version": "3.8.8"
  }
 },
 "nbformat": 4,
 "nbformat_minor": 4
}
