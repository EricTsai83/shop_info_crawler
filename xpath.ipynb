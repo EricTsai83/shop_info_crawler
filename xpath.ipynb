{
 "metadata": {
  "language_info": {
   "codemirror_mode": {
    "name": "ipython",
    "version": 3
   },
   "file_extension": ".py",
   "mimetype": "text/x-python",
   "name": "python",
   "nbconvert_exporter": "python",
   "pygments_lexer": "ipython3",
   "version": "3.8.8"
  },
  "orig_nbformat": 2,
  "kernelspec": {
   "name": "python388jvsc74a57bd0610ce463f2033d00101059a2a8d44cc6bfaf8272d1102aaa40059133de29488a",
   "display_name": "Python 3.8.8 64-bit ('pyjsviz': conda)"
  }
 },
 "nbformat": 4,
 "nbformat_minor": 2,
 "cells": [
  {
   "cell_type": "code",
   "execution_count": 1,
   "metadata": {},
   "outputs": [],
   "source": [
    "import requests\n",
    "from scrapy.http import TextResponse"
   ]
  },
  {
   "source": [
    "## xpath\n",
    "Scrapy uses xpaths to define its HTML targets. Xpath is a syntax for\n",
    "describing parts of an X(HT)ML document, and while it can get\n",
    "rather complicated, the basics are straightforward and will often\n",
    "solve the job at hand. You can get the xpath of an HTML element by using Chrome’s Elements\n",
    "tab to hover over the source and then right-clicking and\n",
    "selecting Copy Xpath.\n",
    "\n",
    "```\n",
    "//E\n",
    "Element <E> anywhere in the document (e.g., //img gets all images on the page)\n",
    "\n",
    "//E[@id=\"foo\"]\n",
    "Select element <E> with id foo\n",
    "\n",
    "//*[@id=\"foo\"]\n",
    "Select any element with id foo\n",
    "\n",
    "//E/F[1]\n",
    "First child element <F> of element <E>\n",
    "\n",
    "//E/*[1]\n",
    "First child of element <E>\n",
    "```"
   ],
   "cell_type": "markdown",
   "metadata": {}
  },
  {
   "source": [
    "### 1. XPath使用路徑表示來尋找節點，常用的語法如下\n",
    "表示式         | 說明                     |\n",
    ":-------------|:-------------------------|\n",
    "nodename      | 選擇所有的<nodename>的節點 | \n",
    "/             | 從root node開始選取       | \n",
    "//            | 選取目前節點下所有的節點   | \n",
    ".             | 從目前的節點選取          | \n",
    "..            | 選取目前節點的parent      | \n",
    "@             | 選取attribute            | \n",
    "\n",
    "\n",
    "### 2. XPath可利用萬用字元(wildcards)來選擇不確定的節點\n",
    "萬用字元 |\t說明                |\n",
    ":-------|:---------------------|\n",
    "*\t    | 匹配任意element節點   |\n",
    "@*\t    | 匹配任意attribute節點 |\n",
    "node()  | 匹配任意節點          |\n",
    "\n",
    "\n",
    "### 3. XPath可以使用|來選擇多個path\n",
    "查詢路徑   |\t結果                   |\n",
    ":---------|:--------------------------|\n",
    "//p`|`//a |\t一次取得全部 p 標籤和 a 標籤|\n",
    "\n",
    "[reference](https://matthung0807.blogspot.com/2017/12/xpath.html)"
   ],
   "cell_type": "markdown",
   "metadata": {}
  },
  {
   "source": [
    "\n",
    "1、child 選取當前節點的所有子元素\n",
    "\n",
    "2、parent 選取當前節點的父節點\n",
    "\n",
    "3、descendant 選取當前節點的所有後代元素（子、孫等）\n",
    "\n",
    "4、ancestor 選取當前節點的所有先輩（父、祖父等）\n",
    "\n",
    "5、descendant-or-self 選取當前節點的所有後代元素（子、孫等）以及當前節點本身\n",
    "\n",
    "6、ancestor-or-self 選取當前節點的所有先輩（父、祖父等）以及當前節點本身\n",
    "\n",
    "7、preceding-sibling 選取當前節點之前的所有同級節點\n",
    "\n",
    "8、following-sibling 選取當前節點之後的所有同級節點\n",
    "\n",
    "9、preceding 選取文檔中當前節點的開始標籤之前的所有節點\n",
    "\n",
    "10、following 選取文檔中當前節點的結束標籤之後的所有節點\n",
    "\n",
    "11、self 選取當前節點\n",
    "\n",
    "12、attribute 選取當前節點的所有屬性\n",
    "\n",
    "13、namespace 選取當前節點的所有命名空間節點\n",
    "\n",
    "[reference](https://www.cnblogs.com/zhaozhan/archive/2009/09/10/1564332.html)"
   ],
   "cell_type": "markdown",
   "metadata": {}
  },
  {
   "cell_type": "code",
   "execution_count": 2,
   "metadata": {},
   "outputs": [],
   "source": [
    "r = requests.get('https://en.wikipedia.org/wiki/List_of_Nobel_laureates_by_country')\n",
    "response = TextResponse(r.url, body=r.text, encoding='utf-8')"
   ]
  },
  {
   "cell_type": "code",
   "execution_count": 3,
   "metadata": {},
   "outputs": [],
   "source": [
    "h3s = response.xpath('//h3')"
   ]
  },
  {
   "cell_type": "code",
   "execution_count": 4,
   "metadata": {},
   "outputs": [],
   "source": [
    "def check_response_result(selector_list, num):\n",
    "    print(f'length: {len(selector_list)}')\n",
    "\n",
    "    if len(selector_list)>=num*2:\n",
    "        i=-1\n",
    "        li = list(range(len(selector_list)))\n",
    "        li.reverse()\n",
    "        tail_li = li[0:num]\n",
    "        tail_li.reverse()\n",
    "\n",
    "        for selector in selector_list:\n",
    "            i += 1\n",
    "            if i < num:\n",
    "                print(selector_list[i].extract())\n",
    "            elif i in tail_li:\n",
    "                print(selector_list[i].extract())\n",
    "            else:\n",
    "                pass\n",
    "    else:\n",
    "        print('data is too small, decrease the value of num')\n"
   ]
  },
  {
   "cell_type": "code",
   "execution_count": 5,
   "metadata": {},
   "outputs": [
    {
     "output_type": "stream",
     "name": "stdout",
     "text": [
      "length: 88\n<h3><span class=\"mw-headline\" id=\"Argentina\">Argentina</span></h3>\n<h3><span class=\"mw-headline\" id=\"Australia\">Australia</span></h3>\n<h3><span class=\"mw-headline\" id=\"Austria\">Austria</span></h3>\n<h3><span class=\"mw-headline\" id=\"Bangladesh\">Bangladesh</span></h3>\n<h3><span class=\"mw-headline\" id=\"Belarus\">Belarus</span></h3>\n<h3 id=\"p-interaction-label\" class=\"vector-menu-heading\">\n\t\t<span>Contribute</span>\n\t</h3>\n<h3 id=\"p-tb-label\" class=\"vector-menu-heading\">\n\t\t<span>Tools</span>\n\t</h3>\n<h3 id=\"p-coll-print_export-label\" class=\"vector-menu-heading\">\n\t\t<span>Print/export</span>\n\t</h3>\n<h3 id=\"p-wikibase-otherprojects-label\" class=\"vector-menu-heading\">\n\t\t<span>In other projects</span>\n\t</h3>\n<h3 id=\"p-lang-label\" class=\"vector-menu-heading\">\n\t\t<span>Languages</span>\n\t</h3>\n"
     ]
    }
   ],
   "source": [
    "check_response_result(selector_list=h3s, num=5)"
   ]
  },
  {
   "source": [
    "some result we don't need"
   ],
   "cell_type": "markdown",
   "metadata": {}
  },
  {
   "source": [
    "## extract country of birth by xpath"
   ],
   "cell_type": "markdown",
   "metadata": {}
  },
  {
   "cell_type": "code",
   "execution_count": 6,
   "metadata": {},
   "outputs": [],
   "source": [
    "country = h3s[0].xpath('span[@class=\"mw-headline\"]/text()').extract()"
   ]
  },
  {
   "cell_type": "code",
   "execution_count": 7,
   "metadata": {},
   "outputs": [
    {
     "output_type": "execute_result",
     "data": {
      "text/plain": [
       "['Argentina']"
      ]
     },
     "metadata": {},
     "execution_count": 7
    }
   ],
   "source": [
    "country"
   ]
  },
  {
   "cell_type": "code",
   "execution_count": 8,
   "metadata": {},
   "outputs": [
    {
     "output_type": "execute_result",
     "data": {
      "text/plain": [
       "'\\nAssuming we have a country’s <h3> header, we now need to get the\\n<ol> ordered list of Nobel winners. \\n\\nHandily, the xpath following-sibling selector can do just that.\\nfollowing-sibling:: ==> 選取當前節點之後的所有同級節點\\n'"
      ]
     },
     "metadata": {},
     "execution_count": 8
    }
   ],
   "source": [
    "\"\"\"\n",
    "Assuming we have a country’s <h3> header, we now need to get the\n",
    "<ol> ordered list of Nobel winners. \n",
    "\n",
    "Handily, the xpath following-sibling selector can do just that.\n",
    "following-sibling:: ==> 選取當前節點之後的所有同級節點\n",
    "\"\"\""
   ]
  },
  {
   "cell_type": "code",
   "execution_count": 9,
   "metadata": {},
   "outputs": [],
   "source": [
    "ol_arg = h3s[0].xpath('following-sibling::ol[1]')"
   ]
  },
  {
   "cell_type": "code",
   "execution_count": 10,
   "metadata": {},
   "outputs": [
    {
     "output_type": "execute_result",
     "data": {
      "text/plain": [
       "[<Selector xpath='following-sibling::ol[1]' data='<ol><li><a href=\"/wiki/C%C3%A9sar_Mil...'>]"
      ]
     },
     "metadata": {},
     "execution_count": 10
    }
   ],
   "source": [
    "ol_arg"
   ]
  },
  {
   "cell_type": "code",
   "execution_count": 11,
   "metadata": {},
   "outputs": [
    {
     "output_type": "execute_result",
     "data": {
      "text/plain": [
       "5"
      ]
     },
     "metadata": {},
     "execution_count": 11
    }
   ],
   "source": [
    "lis_arg = ol_arg.xpath('li')\n",
    "len(lis_arg)"
   ]
  },
  {
   "cell_type": "code",
   "execution_count": 12,
   "metadata": {},
   "outputs": [
    {
     "output_type": "execute_result",
     "data": {
      "text/plain": [
       "[<Selector xpath='li' data='<li><a href=\"/wiki/C%C3%A9sar_Milstei...'>,\n",
       " <Selector xpath='li' data='<li><a href=\"/wiki/Adolfo_P%C3%A9rez_...'>,\n",
       " <Selector xpath='li' data='<li><a href=\"/wiki/Luis_Federico_Lelo...'>,\n",
       " <Selector xpath='li' data='<li><a href=\"/wiki/Bernardo_Houssay\" ...'>,\n",
       " <Selector xpath='li' data='<li><a href=\"/wiki/Carlos_Saavedra_La...'>]"
      ]
     },
     "metadata": {},
     "execution_count": 12
    }
   ],
   "source": [
    "lis_arg"
   ]
  },
  {
   "cell_type": "code",
   "execution_count": 13,
   "metadata": {},
   "outputs": [
    {
     "output_type": "execute_result",
     "data": {
      "text/plain": [
       "'<li><a href=\"/wiki/C%C3%A9sar_Milstein\" title=\"César Milstein\">César Milstein</a>*, Physiology or Medicine, 1984</li>'"
      ]
     },
     "metadata": {},
     "execution_count": 13
    }
   ],
   "source": [
    "li = lis_arg[0]  # select the first list element\n",
    "li.extract()"
   ]
  },
  {
   "cell_type": "code",
   "execution_count": 14,
   "metadata": {},
   "outputs": [],
   "source": [
    "name = li.xpath('a//text()')[0].extract()"
   ]
  },
  {
   "cell_type": "code",
   "execution_count": 15,
   "metadata": {},
   "outputs": [
    {
     "output_type": "execute_result",
     "data": {
      "text/plain": [
       "'César Milstein'"
      ]
     },
     "metadata": {},
     "execution_count": 15
    }
   ],
   "source": [
    "name"
   ]
  },
  {
   "cell_type": "code",
   "execution_count": 16,
   "metadata": {},
   "outputs": [
    {
     "output_type": "execute_result",
     "data": {
      "text/plain": [
       "'\\ndescendant-or-self:: ==> 選取當前節點的所有後代元素（子、孫等）以及當前節點本身\\n'"
      ]
     },
     "metadata": {},
     "execution_count": 16
    }
   ],
   "source": [
    "\"\"\"\n",
    "descendant-or-self:: ==> 選取當前節點的所有後代元素（子、孫等）以及當前節點本身\n",
    "\"\"\""
   ]
  },
  {
   "cell_type": "code",
   "execution_count": 17,
   "metadata": {},
   "outputs": [],
   "source": [
    "list_text = li.xpath('descendant-or-self::text()').extract()"
   ]
  },
  {
   "cell_type": "code",
   "execution_count": 18,
   "metadata": {},
   "outputs": [
    {
     "output_type": "execute_result",
     "data": {
      "text/plain": [
       "['César Milstein', '*, Physiology or Medicine, 1984']"
      ]
     },
     "metadata": {},
     "execution_count": 18
    }
   ],
   "source": [
    "list_text"
   ]
  },
  {
   "cell_type": "code",
   "execution_count": 19,
   "metadata": {},
   "outputs": [
    {
     "output_type": "execute_result",
     "data": {
      "text/plain": [
       "'César Milstein *, Physiology or Medicine, 1984'"
      ]
     },
     "metadata": {},
     "execution_count": 19
    }
   ],
   "source": [
    "' '.join(list_text)"
   ]
  },
  {
   "source": [
    "## Selecting with Relative Xpaths"
   ],
   "cell_type": "markdown",
   "metadata": {}
  },
  {
   "cell_type": "code",
   "execution_count": 20,
   "metadata": {},
   "outputs": [
    {
     "output_type": "execute_result",
     "data": {
      "text/plain": [
       "'\\nAs just shown, Scrapy xpath selections return lists of selectors\\nwhich, in turn, have their own xpath methods. When using the\\nxpath method, it’s important to be clear about relative and absolute\\nselections. Let’s make the distinction clear using the Nobel page’s\\ntable of contents as an example.\\n'"
      ]
     },
     "metadata": {},
     "execution_count": 20
    }
   ],
   "source": [
    "\"\"\"\n",
    "As just shown, Scrapy xpath selections return lists of selectors\n",
    "which, in turn, have their own xpath methods. When using the\n",
    "xpath method, it’s important to be clear about relative and absolute\n",
    "selections. Let’s make the distinction clear using the Nobel page’s\n",
    "table of contents as an example.\n",
    "\"\"\""
   ]
  },
  {
   "cell_type": "code",
   "execution_count": 21,
   "metadata": {},
   "outputs": [],
   "source": [
    "toc = response.xpath('//div[@id=\"toc\"]')[0]"
   ]
  },
  {
   "cell_type": "code",
   "execution_count": 22,
   "metadata": {},
   "outputs": [
    {
     "output_type": "execute_result",
     "data": {
      "text/plain": [
       "76"
      ]
     },
     "metadata": {},
     "execution_count": 22
    }
   ],
   "source": [
    "# relative Xpaths(following commends are same)\n",
    "lis = toc.xpath('.//ul/li[2]/ul/li')\n",
    "lis = toc.xpath('ul/li[2]/ul/li')\n",
    "len(lis)"
   ]
  },
  {
   "cell_type": "code",
   "execution_count": 23,
   "metadata": {},
   "outputs": [
    {
     "output_type": "stream",
     "name": "stdout",
     "text": [
      "length: 76\n<li class=\"toclevel-2 tocsection-3\"><a href=\"#Argentina\"><span class=\"tocnumber\">2.1</span> <span class=\"toctext\">Argentina</span></a></li>\n<li class=\"toclevel-2 tocsection-4\"><a href=\"#Australia\"><span class=\"tocnumber\">2.2</span> <span class=\"toctext\">Australia</span></a></li>\n<li class=\"toclevel-2 tocsection-5\"><a href=\"#Austria\"><span class=\"tocnumber\">2.3</span> <span class=\"toctext\">Austria</span></a></li>\n<li class=\"toclevel-2 tocsection-6\"><a href=\"#Bangladesh\"><span class=\"tocnumber\">2.4</span> <span class=\"toctext\">Bangladesh</span></a></li>\n<li class=\"toclevel-2 tocsection-7\"><a href=\"#Belarus\"><span class=\"tocnumber\">2.5</span> <span class=\"toctext\">Belarus</span></a></li>\n<li class=\"toclevel-2 tocsection-74\"><a href=\"#United_States\"><span class=\"tocnumber\">2.72</span> <span class=\"toctext\">United States</span></a></li>\n<li class=\"toclevel-2 tocsection-75\"><a href=\"#Venezuela\"><span class=\"tocnumber\">2.73</span> <span class=\"toctext\">Venezuela</span></a></li>\n<li class=\"toclevel-2 tocsection-76\"><a href=\"#Vietnam\"><span class=\"tocnumber\">2.74</span> <span class=\"toctext\">Vietnam</span></a></li>\n<li class=\"toclevel-2 tocsection-77\"><a href=\"#Yemen\"><span class=\"tocnumber\">2.75</span> <span class=\"toctext\">Yemen</span></a></li>\n<li class=\"toclevel-2 tocsection-78\"><a href=\"#Yugoslavia\"><span class=\"tocnumber\">2.76</span> <span class=\"toctext\">Yugoslavia</span></a></li>\n"
     ]
    }
   ],
   "source": [
    "check_response_result(lis, 5)"
   ]
  },
  {
   "cell_type": "code",
   "execution_count": 24,
   "metadata": {},
   "outputs": [
    {
     "output_type": "execute_result",
     "data": {
      "text/plain": [
       "81"
      ]
     },
     "metadata": {},
     "execution_count": 24
    }
   ],
   "source": [
    "\"\"\"\n",
    "A common mistake is to use a nonrelative xpath selector on the current\n",
    "selection, which selects from the whole document, in this case\n",
    "getting all <li> tags under condition('//ul/li[2]/ul'):\n",
    "\"\"\"\n",
    "lis = toc.xpath('//ul/li[2]/ul/li')\n",
    "len(lis)"
   ]
  },
  {
   "cell_type": "code",
   "execution_count": 25,
   "metadata": {},
   "outputs": [
    {
     "output_type": "stream",
     "name": "stdout",
     "text": [
      "length: 81\n<li class=\"toclevel-2 tocsection-3\"><a href=\"#Argentina\"><span class=\"tocnumber\">2.1</span> <span class=\"toctext\">Argentina</span></a></li>\n<li class=\"toclevel-2 tocsection-4\"><a href=\"#Australia\"><span class=\"tocnumber\">2.2</span> <span class=\"toctext\">Australia</span></a></li>\n<li class=\"toclevel-2 tocsection-5\"><a href=\"#Austria\"><span class=\"tocnumber\">2.3</span> <span class=\"toctext\">Austria</span></a></li>\n<li class=\"toclevel-2 tocsection-6\"><a href=\"#Bangladesh\"><span class=\"tocnumber\">2.4</span> <span class=\"toctext\">Bangladesh</span></a></li>\n<li class=\"toclevel-2 tocsection-7\"><a href=\"#Belarus\"><span class=\"tocnumber\">2.5</span> <span class=\"toctext\">Belarus</span></a></li>\n<li><a href=\"/wiki/Nobel_Committee_for_Chemistry\" title=\"Nobel Committee for Chemistry\">Chemistry</a></li>\n<li><a href=\"/wiki/Committee_for_the_Sveriges_Riksbank_Prize_in_Economic_Sciences_in_Memory_of_Alfred_Nobel\" title=\"Committee for the Sveriges Riksbank Prize in Economic Sciences in Memory of Alfred Nobel\">Economics</a></li>\n<li><a href=\"/wiki/Nobel_Committee_for_Physics\" title=\"Nobel Committee for Physics\">Physics</a></li>\n<li><a href=\"/wiki/Nobel_Committee_for_Physiology_or_Medicine\" title=\"Nobel Committee for Physiology or Medicine\">Physiology or Medicine</a></li>\n<li><a href=\"/wiki/Norwegian_Nobel_Committee\" title=\"Norwegian Nobel Committee\">Norwegian Nobel Committee</a></li>\n"
     ]
    }
   ],
   "source": [
    "check_response_result(lis, 5)"
   ]
  }
 ]
}