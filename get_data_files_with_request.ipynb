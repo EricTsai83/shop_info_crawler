{
 "metadata": {
  "language_info": {
   "codemirror_mode": {
    "name": "ipython",
    "version": 3
   },
   "file_extension": ".py",
   "mimetype": "text/x-python",
   "name": "python",
   "nbconvert_exporter": "python",
   "pygments_lexer": "ipython3",
   "version": "3.8.8"
  },
  "orig_nbformat": 2,
  "kernelspec": {
   "name": "python388jvsc74a57bd0610ce463f2033d00101059a2a8d44cc6bfaf8272d1102aaa40059133de29488a",
   "display_name": "Python 3.8.8 64-bit ('pyjsviz': conda)"
  }
 },
 "nbformat": 4,
 "nbformat_minor": 2,
 "cells": [
  {
   "source": [
    "## Introduce requests library"
   ],
   "cell_type": "markdown",
   "metadata": {}
  },
  {
   "cell_type": "code",
   "execution_count": 1,
   "metadata": {},
   "outputs": [],
   "source": [
    "import requests"
   ]
  },
  {
   "cell_type": "code",
   "execution_count": 2,
   "metadata": {},
   "outputs": [],
   "source": [
    "response = requests.get(\"https://en.wikipedia.org/wiki/Nobel_Prize\")"
   ]
  },
  {
   "cell_type": "code",
   "execution_count": 3,
   "metadata": {},
   "outputs": [
    {
     "output_type": "execute_result",
     "data": {
      "text/plain": [
       "['__attrs__',\n",
       " '__bool__',\n",
       " '__class__',\n",
       " '__delattr__',\n",
       " '__dict__',\n",
       " '__dir__',\n",
       " '__doc__',\n",
       " '__enter__',\n",
       " '__eq__',\n",
       " '__exit__',\n",
       " '__format__',\n",
       " '__ge__',\n",
       " '__getattribute__',\n",
       " '__getstate__',\n",
       " '__gt__',\n",
       " '__hash__',\n",
       " '__init__',\n",
       " '__init_subclass__',\n",
       " '__iter__',\n",
       " '__le__',\n",
       " '__lt__',\n",
       " '__module__',\n",
       " '__ne__',\n",
       " '__new__',\n",
       " '__nonzero__',\n",
       " '__reduce__',\n",
       " '__reduce_ex__',\n",
       " '__repr__',\n",
       " '__setattr__',\n",
       " '__setstate__',\n",
       " '__sizeof__',\n",
       " '__str__',\n",
       " '__subclasshook__',\n",
       " '__weakref__',\n",
       " '_content',\n",
       " '_content_consumed',\n",
       " '_next',\n",
       " 'apparent_encoding',\n",
       " 'close',\n",
       " 'connection',\n",
       " 'content',\n",
       " 'cookies',\n",
       " 'elapsed',\n",
       " 'encoding',\n",
       " 'headers',\n",
       " 'history',\n",
       " 'is_permanent_redirect',\n",
       " 'is_redirect',\n",
       " 'iter_content',\n",
       " 'iter_lines',\n",
       " 'json',\n",
       " 'links',\n",
       " 'next',\n",
       " 'ok',\n",
       " 'raise_for_status',\n",
       " 'raw',\n",
       " 'reason',\n",
       " 'request',\n",
       " 'status_code',\n",
       " 'text',\n",
       " 'url']"
      ]
     },
     "metadata": {},
     "execution_count": 3
    }
   ],
   "source": [
    "\"\"\"\n",
    "use Python’s dir method to get a list of the response object’s\n",
    "attributes\n",
    "\"\"\"\n",
    "dir(response)"
   ]
  },
  {
   "source": [
    "As all good minimal web developers know, 200 is the HTTP status\n",
    "\n",
    "code for OK, indicating a successful transaction. Other than 200, the\n",
    "\n",
    "most common codes are:\n",
    "\n",
    "* 401 (Unauthorized): Attempting unauthorized access\n",
    "* 400 (Bad Request): Trying to access the web server incorrectly\n",
    "* 403 (Forbidden): Similar to 401 but no login opportunity was available\n",
    "* 404 (Not Found): Trying to access a web page that doesn’t exist\n",
    "* 500 (Internal Server Error): A general-purpose, catch-all error"
   ],
   "cell_type": "markdown",
   "metadata": {}
  },
  {
   "cell_type": "code",
   "execution_count": 4,
   "metadata": {},
   "outputs": [
    {
     "output_type": "execute_result",
     "data": {
      "text/plain": [
       "200"
      ]
     },
     "metadata": {},
     "execution_count": 4
    }
   ],
   "source": [
    "response.status_code"
   ]
  },
  {
   "cell_type": "code",
   "execution_count": 5,
   "metadata": {},
   "outputs": [
    {
     "output_type": "execute_result",
     "data": {
      "text/plain": [
       "{'Date': 'Sat, 08 May 2021 09:15:11 GMT', 'Server': 'mw1387.eqiad.wmnet', 'X-Content-Type-Options': 'nosniff', 'P3p': 'CP=\"See https://en.wikipedia.org/wiki/Special:CentralAutoLogin/P3P for more info.\"', 'Content-Language': 'en', 'Vary': 'Accept-Encoding,Cookie,Authorization', 'X-Request-Id': 'd3ee5dcb-29fb-4c98-a067-229f3db223b6', 'Last-Modified': 'Sat, 08 May 2021 08:01:08 GMT', 'Content-Type': 'text/html; charset=UTF-8', 'Content-Encoding': 'gzip', 'Age': '30221', 'X-Cache': 'cp5010 miss, cp5007 hit/16', 'X-Cache-Status': 'hit-front', 'Server-Timing': 'cache;desc=\"hit-front\", host;desc=\"cp5007\"', 'Strict-Transport-Security': 'max-age=106384710; includeSubDomains; preload', 'Report-To': '{ \"group\": \"wm_nel\", \"max_age\": 86400, \"endpoints\": [{ \"url\": \"https://intake-logging.wikimedia.org/v1/events?stream=w3c.reportingapi.network_error&schema_uri=/w3c/reportingapi/network_error/1.0.0\" }] }', 'NEL': '{ \"report_to\": \"wm_nel\", \"max_age\": 86400, \"failure_fraction\": 0.05, \"success_fraction\": 0.0}', 'Permissions-Policy': 'interest-cohort=()', 'Set-Cookie': 'WMF-Last-Access=08-May-2021;Path=/;HttpOnly;secure;Expires=Wed, 09 Jun 2021 12:00:00 GMT, WMF-Last-Access-Global=08-May-2021;Path=/;Domain=.wikipedia.org;HttpOnly;secure;Expires=Wed, 09 Jun 2021 12:00:00 GMT, GeoIP=TW:NWT:New_Taipei:25.05:121.53:v4; Path=/; secure; Domain=.wikipedia.org', 'X-Client-IP': '61.230.164.156', 'Cache-Control': 'private, s-maxage=0, max-age=0, must-revalidate', 'Accept-Ranges': 'bytes', 'Content-Length': '85008', 'Connection': 'keep-alive'}"
      ]
     },
     "metadata": {},
     "execution_count": 5
    }
   ],
   "source": [
    "response.headers"
   ]
  },
  {
   "cell_type": "code",
   "execution_count": 6,
   "metadata": {},
   "outputs": [
    {
     "output_type": "execute_result",
     "data": {
      "text/plain": [
       "\"\\nThe OECD web API is described here, and queries are constructed\\nwith the dataset name (dsname) and some dot-separated dimensions,\\neach of which can be a number of + separated values. The\\nURL can also take standard HTTP parameters initiated by a ? and\\nseparated by &:\\n\\n<root_url>\\n/<dsname>\\n/<dim 1>.<dim 2>...<dim n>\\n/all?param1=foo&param2=baa..\\n<dim 1> = 'AUS'+'AUT'+'BEL'...\\n\\nexample:\\nhttp://stats.oecd.org/sdmx-json/data\\n/QNA\\n/AUS+AUT.GDP+B1_GE.CUR+VOBARSA.Q\\n/all?startTime=2009-Q2&endTime=2011-Q4\\n\""
      ]
     },
     "metadata": {},
     "execution_count": 6
    }
   ],
   "source": [
    "\"\"\"\n",
    "The OECD web API is described here, and queries are constructed\n",
    "with the dataset name (dsname) and some dot-separated dimensions,\n",
    "each of which can be a number of + separated values. The\n",
    "URL can also take standard HTTP parameters initiated by a ? and\n",
    "separated by &:\n",
    "\n",
    "<root_url>\n",
    "/<dsname>\n",
    "/<dim 1>.<dim 2>...<dim n>\n",
    "/all?param1=foo&param2=baa..\n",
    "<dim 1> = 'AUS'+'AUT'+'BEL'...\n",
    "\n",
    "example:\n",
    "http://stats.oecd.org/sdmx-json/data\n",
    "/QNA\n",
    "/AUS+AUT.GDP+B1_GE.CUR+VOBARSA.Q\n",
    "/all?startTime=2009-Q2&endTime=2011-Q4\n",
    "\"\"\""
   ]
  },
  {
   "source": [
    "## Example 5-1. Making a URL for the OECD API"
   ],
   "cell_type": "markdown",
   "metadata": {}
  },
  {
   "cell_type": "code",
   "execution_count": 7,
   "metadata": {},
   "outputs": [],
   "source": [
    "OECD_ROOT_URL = 'http://stats.oecd.org/sdmx-json/data'"
   ]
  },
  {
   "cell_type": "code",
   "execution_count": 8,
   "metadata": {},
   "outputs": [],
   "source": [
    "def make_OECD_request(dsname, dimensions, params=None, root_dir=OECD_ROOT_URL):\n",
    "    \"\"\" Make a URL for the OECD API and return a response \"\"\"\n",
    "    if not params:\n",
    "        params = {}\n",
    "    dim_args = ['+'.join(d) for d in dimensions]\n",
    "    dim_str = '.'.join(dim_args)\n",
    "    url = root_dir + '/' + dsname + '/' + dim_str + '/all'\n",
    "    print('Requesting URL: ' + url)\n",
    "    return requests.get(url, params=params)"
   ]
  },
  {
   "cell_type": "code",
   "execution_count": 9,
   "metadata": {},
   "outputs": [
    {
     "output_type": "stream",
     "name": "stdout",
     "text": [
      "Requesting URL: http://stats.oecd.org/sdmx-json/data/QNA/USA+AUS.GDP+B1_GE.CUR+VOBARSA.Q/all\n"
     ]
    }
   ],
   "source": [
    "response = make_OECD_request('QNA',\n",
    "(('USA', 'AUS'),('GDP', 'B1_GE'),('CUR', 'VOBARSA'), ('Q')),\n",
    "{'startTime':'2009-Q1', 'endTime':'2010-Q1'})"
   ]
  },
  {
   "cell_type": "code",
   "execution_count": 10,
   "metadata": {},
   "outputs": [
    {
     "output_type": "stream",
     "name": "stdout",
     "text": [
      "dict_keys(['header', 'dataSets', 'structure'])\n"
     ]
    }
   ],
   "source": [
    "if response.status_code == 200:\n",
    "    json = response.json()\n",
    "    print(json.keys())"
   ]
  },
  {
   "cell_type": "code",
   "execution_count": null,
   "metadata": {},
   "outputs": [],
   "source": []
  }
 ]
}